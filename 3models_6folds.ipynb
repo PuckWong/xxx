{
  "cells": [
    {
      "metadata": {
        "trusted": true,
        "_uuid": "b378958a9606ac48fe0dc54e24bed4cd503e0ac7"
      },
      "cell_type": "code",
      "source": "import pandas as pd\nimport numpy as np\nfrom sklearn.model_selection import train_test_split, StratifiedKFold\nfrom sklearn import metrics\n\nfrom keras.preprocessing.text import Tokenizer\nfrom keras.preprocessing.sequence import pad_sequences\nfrom keras.layers import *\nfrom keras.models import *\nfrom keras import initializers, regularizers, constraints, optimizers, layers\nfrom keras.initializers import *\nfrom keras.optimizers import *\nimport keras.backend as K\nfrom keras.callbacks import *\nimport os\nimport time\nimport gc\nimport re\nimport random\n\n#设置随机种子保证可重复性\ndef seed_everything(seed=1234):\n    random.seed(seed)\n    os.environ['PYTHONHASHSEED'] = str(seed)\n    np.random.seed(seed)\nseed_everything()",
      "execution_count": null,
      "outputs": []
    },
    {
      "metadata": {
        "_uuid": "8f2839f25d086af736a60e9eeb907d3b93b6e0e5",
        "_cell_guid": "b1076dfc-b9ad-4769-8c92-a6c4dae69d19",
        "trusted": true
      },
      "cell_type": "code",
      "source": "train = pd.read_csv(\"../input/train.csv\")\ntest = pd.read_csv(\"../input/test.csv\")\nprint(\"Train shape : \", train.shape)\nprint(\"Test shape : \", test.shape)",
      "execution_count": null,
      "outputs": []
    },
    {
      "metadata": {
        "trusted": true,
        "_uuid": "6d336bfef799c16f12f2d02ffa4f3c2eaaf6ef34"
      },
      "cell_type": "code",
      "source": "%%time\ntrain[\"question_text\"] = train[\"question_text\"].str.lower()\ntest[\"question_text\"] = test[\"question_text\"].str.lower()\n\npuncts = [',', '.', '\"', ':', ')', '(', '-', '!', '?', '|', ';', \"'\", '$', '&', '/', '[', ']', '>', '%', '=', '#', '*', '+', '\\\\', '•',  '~', '@', '£', \n '·', '_', '{', '}', '©', '^', '®', '`',  '<', '→', '°', '€', '™', '›',  '♥', '←', '×', '§', '″', '′', 'Â', '█', '½', 'à', '…', \n '“', '★', '”', '–', '●', 'â', '►', '−', '¢', '²', '¬', '░', '¶', '↑', '±', '¿', '▾', '═', '¦', '║', '―', '¥', '▓', '—', '‹', '─', \n '▒', '：', '¼', '⊕', '▼', '▪', '†', '■', '’', '▀', '¨', '▄', '♫', '☆', 'é', '¯', '♦', '¤', '▲', 'è', '¸', '¾', 'Ã', '⋅', '‘', '∞', \n '∙', '）', '↓', '、', '│', '（', '»', '，', '♪', '╩', '╚', '³', '・', '╦', '╣', '╔', '╗', '▬', '❤', 'ï', 'Ø', '¹', '≤', '‡', '√', ]\ndef clean_text(x):\n\n    x = str(x)\n    for punct in puncts:\n        if punct in x:\n            x = x.replace(punct, f' {punct} ')\n    return x\n\n\ntrain[\"question_text\"] = train[\"question_text\"].apply(lambda x: clean_text(x))\ntest[\"question_text\"] = test[\"question_text\"].apply(lambda x: clean_text(x))",
      "execution_count": null,
      "outputs": []
    },
    {
      "metadata": {
        "trusted": true,
        "_uuid": "87b0cf1880df72c47d8a882e6441aaa07dacfd9c"
      },
      "cell_type": "code",
      "source": "## some config values \nembed_size = 300 # how big is each word vector\nmax_features = None # how many unique words to use (i.e num rows in embedding vector)\nmaxlen = 72 # max number of words in a question to use #99.99%\n\n## fill up the missing values\nX = train[\"question_text\"].fillna(\"_na_\").values\nX_test = test[\"question_text\"].fillna(\"_na_\").values\n\n## Tokenize the sentences\ntokenizer = Tokenizer(num_words=max_features, filters='')\ntokenizer.fit_on_texts(list(X)+list(X_test))\n\nX = tokenizer.texts_to_sequences(X)\nX_test = tokenizer.texts_to_sequences(X_test)\n\n## Pad the sentences \nX = pad_sequences(X, maxlen=maxlen)\nX_test = pad_sequences(X_test, maxlen=maxlen)\n\n## Get the target values\nY = train['target'].values\n\nsub = test[['qid']]",
      "execution_count": null,
      "outputs": []
    },
    {
      "metadata": {
        "trusted": true,
        "_uuid": "259d359c2fd45efd7ccd1a18db69fbb7fe7ad8d2"
      },
      "cell_type": "code",
      "source": "del train, test\ngc.collect()",
      "execution_count": null,
      "outputs": []
    },
    {
      "metadata": {
        "trusted": true,
        "_uuid": "26e110fe2c74167bf02fda50e7cd9cbb897dca57"
      },
      "cell_type": "code",
      "source": "word_index = tokenizer.word_index\nmax_features = len(word_index)+1\ndef load_glove(word_index):\n    EMBEDDING_FILE = '../input/embeddings/glove.840B.300d/glove.840B.300d.txt'\n    def get_coefs(word,*arr): return word, np.asarray(arr, dtype='float32')\n    embeddings_index = dict(get_coefs(*o.split(\" \")) \n                            for o in open(EMBEDDING_FILE) \n                            if o.split(\" \")[0] in word_index or o.split(\" \")[0].lower() in word_index)\n\n    emb_mean, emb_std = -0.005838499, 0.48782197\n\n    embedding_matrix = np.random.normal(emb_mean, emb_std, (max_features, embed_size))\n    for word, i in word_index.items():\n        if i >= max_features: continue\n        embedding_vector = embeddings_index.get(word)\n        if embedding_vector is not None: \n            embedding_matrix[i] = embedding_vector\n        elif embeddings_index.get(word.lower()) is not None:\n            embedding_matrix[i] = embeddings_index.get(word.lower())\n            \n    return embedding_matrix \n    \ndef load_fasttext(word_index):    \n    EMBEDDING_FILE = '../input/embeddings/wiki-news-300d-1M/wiki-news-300d-1M.vec'\n    def get_coefs(word, *arr): return word, np.asarray(arr, dtype='float32')\n    embeddings_index = dict(get_coefs(*o.split(\" \")) \n                            for o in open(EMBEDDING_FILE) \n                            if len(o)>100 and o.split(\" \")[0] in word_index )\n\n    all_embs = np.stack(embeddings_index.values())\n    emb_mean,emb_std = all_embs.mean(), all_embs.std()\n    embed_size = all_embs.shape[1]\n\n    embedding_matrix = np.random.normal(emb_mean, emb_std, (max_features, embed_size))\n    for word, i in word_index.items():\n        if i >= max_features: continue\n        embedding_vector = embeddings_index.get(word)\n        if embedding_vector is not None: embedding_matrix[i] = embedding_vector\n\n    return embedding_matrix\n\ndef load_para(word_index):\n    EMBEDDING_FILE = '../input/embeddings/paragram_300_sl999/paragram_300_sl999.txt'\n    def get_coefs(word,*arr): return word, np.asarray(arr, dtype='float32')\n    embeddings_index = dict(get_coefs(*o.split(\" \")) \n                            for o in open(EMBEDDING_FILE, encoding=\"utf8\", errors='ignore') \n                            if len(o)>100 and (o.split(\" \")[0] in word_index or o.split(\" \")[0].lower() in word_index))\n\n    emb_mean, emb_std = -0.0053247833, 0.49346462\n    \n    embedding_matrix = np.random.normal(emb_mean, emb_std, (max_features, embed_size))\n    for word, i in word_index.items():\n        if i >= max_features: continue\n        embedding_vector = embeddings_index.get(word)\n        if embedding_vector is not None: \n            embedding_matrix[i] = embedding_vector\n        elif embeddings_index.get(word.lower()) is not None:\n            embedding_matrix[i] = embeddings_index.get(word.lower())\n    \n    return embedding_matrix",
      "execution_count": null,
      "outputs": []
    },
    {
      "metadata": {
        "trusted": true,
        "_uuid": "2505794d8ebc30884ccc6a9a9a17a3a1af12bd29"
      },
      "cell_type": "code",
      "source": "%%time\nseed_everything()\nembedding_matrix_1 = load_glove(word_index)\nembedding_matrix_3 = load_para(word_index)\nembedding_matrix = np.concatenate((embedding_matrix_1, embedding_matrix_3), axis=1)  \ndel embedding_matrix_1, embedding_matrix_3\ngc.collect()\nnp.shape(embedding_matrix)",
      "execution_count": null,
      "outputs": []
    },
    {
      "metadata": {
        "trusted": true,
        "_uuid": "7da1175268fbea36b8eac3ca4a18c4f2497f690a"
      },
      "cell_type": "code",
      "source": "class AdamW(Optimizer):\n    def __init__(self, lr=0.001, beta_1=0.9, beta_2=0.999, weight_decay=1e-4,  # decoupled weight decay (1/4)\n                 epsilon=1e-8, decay=0., **kwargs):\n        super(AdamW, self).__init__(**kwargs)\n        with K.name_scope(self.__class__.__name__):\n            self.iterations = K.variable(0, dtype='int64', name='iterations')\n            self.lr = K.variable(lr, name='lr')\n            self.beta_1 = K.variable(beta_1, name='beta_1')\n            self.beta_2 = K.variable(beta_2, name='beta_2')\n            self.decay = K.variable(decay, name='decay')\n            self.wd = K.variable(weight_decay, name='weight_decay') # decoupled weight decay (2/4)\n        self.epsilon = epsilon\n        self.initial_decay = decay\n\n    @interfaces.legacy_get_updates_support\n    def get_updates(self, loss, params):\n        grads = self.get_gradients(loss, params)\n        self.updates = [K.update_add(self.iterations, 1)]\n        wd = self.wd # decoupled weight decay (3/4)\n\n        lr = self.lr\n        if self.initial_decay > 0:\n            lr *= (1. / (1. + self.decay * K.cast(self.iterations,\n                                                  K.dtype(self.decay))))\n\n        t = K.cast(self.iterations, K.floatx()) + 1\n        lr_t = lr * (K.sqrt(1. - K.pow(self.beta_2, t)) /\n                     (1. - K.pow(self.beta_1, t)))\n\n        ms = [K.zeros(K.int_shape(p), dtype=K.dtype(p)) for p in params]\n        vs = [K.zeros(K.int_shape(p), dtype=K.dtype(p)) for p in params]\n        self.weights = [self.iterations] + ms + vs\n\n        for p, g, m, v in zip(params, grads, ms, vs):\n            m_t = (self.beta_1 * m) + (1. - self.beta_1) * g\n            v_t = (self.beta_2 * v) + (1. - self.beta_2) * K.square(g)\n            p_t = p - lr_t * m_t / (K.sqrt(v_t) + self.epsilon) - lr * wd * p # decoupled weight decay (4/4)\n\n            self.updates.append(K.update(m, m_t))\n            self.updates.append(K.update(v, v_t))\n            new_p = p_t\n\n            # Apply constraints.\n            if getattr(p, 'constraint', None) is not None:\n                new_p = p.constraint(new_p)\n\n            self.updates.append(K.update(p, new_p))\n        return self.updates\n\n    def get_config(self):\n        config = {'lr': float(K.get_value(self.lr)),\n                  'beta_1': float(K.get_value(self.beta_1)),\n                  'beta_2': float(K.get_value(self.beta_2)),\n                  'decay': float(K.get_value(self.decay)),\n                  'weight_decay': float(K.get_value(self.wd)),\n                  'epsilon': self.epsilon}\n        base_config = super(AdamW, self).get_config()\n        return dict(list(base_config.items()) + list(config.items()))",
      "execution_count": null,
      "outputs": []
    },
    {
      "metadata": {
        "trusted": true,
        "_uuid": "be320a2d7e31c80af254fa742de9179b6ad0603a"
      },
      "cell_type": "code",
      "source": "embed_size = 600\nmaxlen = 72",
      "execution_count": null,
      "outputs": []
    },
    {
      "metadata": {
        "trusted": true,
        "_uuid": "5e0045fb5f8a694e131f595db12d1625e2829d52"
      },
      "cell_type": "code",
      "source": "def GRU_pool():\n    K.clear_session()       \n    inp = Input(shape=(maxlen,))\n    x = Embedding(max_features, embed_size, weights=[embedding_matrix], trainable=False)(inp)\n    x = SpatialDropout1D(rate=0.22, seed=1008600)(x)\n    x = Bidirectional(CuDNNGRU(128, return_sequences=True, \n                                kernel_initializer=glorot_normal(seed=1008600), \n                               recurrent_initializer=orthogonal(gain=1.0, seed=1008600)))(x)\n\n    x1 = GlobalMaxPool1D()(x)\n    x2 = GlobalAvgPool1D()(x)\n    concat = concatenate([x1, x2], axis=-1)\n    x = Dense(1, activation=\"sigmoid\", kernel_initializer=glorot_normal(seed=1008600))(concat)\n    model = Model(inputs=inp, outputs=x)\n    model.compile(loss='binary_crossentropy', optimizer=AdamW(weight_decay=0.06),)\n    return model",
      "execution_count": null,
      "outputs": []
    },
    {
      "metadata": {
        "trusted": true,
        "_uuid": "ecf57b78b883248857a725df01f5d5bad1f2dc94"
      },
      "cell_type": "code",
      "source": "#epoch=5\ndef parallelRNN():\n    K.clear_session()\n    recurrent_units = 128\n    inp = Input(shape=(maxlen,))\n    embed = Embedding(max_features, embed_size, weights=[embedding_matrix], trainable=False)(inp)\n    embed = SpatialDropout1D(0.2, seed=1008600)(embed)\n\n    x = Bidirectional(CuDNNGRU(64, return_sequences=True, \n                                   kernel_initializer=glorot_uniform(seed=1008600), \n                                   recurrent_initializer=Orthogonal(gain=1.0, seed=1008600)))(embed)\n    y = Bidirectional(CuDNNLSTM(64, return_sequences=True,\n                                  kernel_initializer=glorot_uniform(seed=1008600), \n                                  recurrent_initializer=Orthogonal(gain=1.0, seed=1008600)))(embed)\n    concat = concatenate([x, y], axis=-1)\n    concat = GlobalMaxPooling1D()(concat)\n\n\n    out = Dense(1, activation=\"sigmoid\", kernel_initializer=glorot_uniform(seed=1008600))(concat)\n    model = Model(inputs=inp, outputs=out)\n    model.compile(loss='binary_crossentropy', optimizer=AdamW(weight_decay=0.06))\n    return model",
      "execution_count": null,
      "outputs": []
    },
    {
      "metadata": {
        "trusted": true,
        "_uuid": "d57ea157dd08789704b26da3931d3aad4233b0d8"
      },
      "cell_type": "code",
      "source": "def stackGRU():\n    K.clear_session()       \n    inp = Input(shape=(maxlen,))\n    \n    embed = Embedding(max_features, embed_size, weights=[embedding_matrix], trainable=False, name='Embedding')(inp)\n    embed = SpatialDropout1D(0.22, seed=11110000)(embed)\n\n    rnn1 = Bidirectional(CuDNNGRU(64, return_sequences=True, kernel_initializer=glorot_uniform(seed=111100), \n                           recurrent_initializer=Orthogonal(gain=1.0, seed=123000)))(embed)\n    rnn2 = Bidirectional(CuDNNGRU(64, return_sequences=True, kernel_initializer=glorot_uniform(seed=111000), \n                           recurrent_initializer=Orthogonal(gain=1.0, seed=1203000)))(rnn1)\n\n    x = concatenate([rnn1, rnn2])\n    x = GlobalMaxPooling1D()(x)  \n    out = Dense(1, activation='sigmoid', kernel_initializer=glorot_uniform(seed=111100))(x)\n    model = Model(inputs=inp, outputs=out)\n    model.compile(loss='binary_crossentropy', optimizer=AdamW(weight_decay=0.06),)\n    return model",
      "execution_count": null,
      "outputs": []
    },
    {
      "metadata": {
        "trusted": true,
        "_uuid": "b5a8d1d9ceff06d19f32ccefa62c601d08a4fd0c"
      },
      "cell_type": "code",
      "source": "def f1_smart(y_true, y_pred):\n    args = np.argsort(y_pred)\n    tp = y_true.sum()\n    fs = (tp - np.cumsum(y_true[args[:-1]])) / np.arange(y_true.shape[0] + tp - 1, tp, -1)\n    res_idx = np.argmax(fs)\n    return 2 * fs[res_idx], (y_pred[args[res_idx]] + y_pred[args[res_idx + 1]]) / 2",
      "execution_count": null,
      "outputs": []
    },
    {
      "metadata": {
        "trusted": true,
        "_uuid": "d385d970fcd0c8a5477b695462c5bb31607ad19a"
      },
      "cell_type": "code",
      "source": "def lr_scheduler(epoch, lr=0.001):\n    if epoch == 4:\n        lr = 0.0002\n    return lr",
      "execution_count": 17,
      "outputs": []
    },
    {
      "metadata": {
        "trusted": true,
        "_uuid": "0d97ed2a521ec1bd2fc10c3ec9fdb7c5fc6f571c"
      },
      "cell_type": "code",
      "source": "%%time\nseed_everything()\nkfold = StratifiedKFold(n_splits=7, random_state=10, shuffle=True)\nbestscore = []\nlogloss = []\ny_test = np.zeros((X_test.shape[0], ))\noof = np.zeros((X.shape[0], ))\n\nfor i, (train_index, valid_index) in enumerate(kfold.split(X, Y)):\n    print('Fold %s'%(i+1))\n    X_train, X_val, Y_train, Y_val = X[train_index], X[valid_index], Y[train_index], Y[valid_index]\n    filepath=\"weights_best.h5\"\n    checkpoint = ModelCheckpoint(filepath, monitor='val_loss', verbose=2, save_best_only=True, mode='min')\n    #reduce_lr = ReduceLROnPlateau(monitor='val_loss', factor=0.3, patience=1, min_lr=0.0001, verbose=2)\n    #earlystopping = EarlyStopping(monitor='val_loss', min_delta=0.0001, patience=2, verbose=2, mode='auto')\n    scheduler = LearningRateScheduler(lr_scheduler, verbose=1)\n    callbacks = [checkpoint, scheduler]\n    if i == 0:\n        model = stackGRU()\n    elif i == 1:\n        model = GRU_pool()\n    elif i == 2:\n        model = parallelRNN()\n    print(model.summary())\n    model.fit(X_train, Y_train, batch_size=512, epochs=6, validation_data=(X_val, Y_val), verbose=2, \n              callbacks=callbacks, \n              shuffle=False,\n              class_weight={0:1, 1:1.25}\n             )\n    model.load_weights(filepath)\n    y_pred = model.predict([X_val], batch_size=1024, verbose=2)\n    y_test += np.squeeze(model.predict([X_test], batch_size=1024, verbose=2))/3\n    oof[valid_index] = np.squeeze(y_pred)\n    f1, threshold = f1_smart(np.squeeze(Y_val), np.squeeze(y_pred))\n    print('Optimal F1: {:.4f} at threshold: {:.4f}'.format(f1, threshold))\n    bestscore.append(threshold)\n    logloss.append(np.min(model.history.history['val_loss']))\n    print('*'*50)\n    print('\\n')\n    if i == 2:\n        break",
      "execution_count": null,
      "outputs": []
    },
    {
      "metadata": {
        "trusted": true,
        "_uuid": "a0727e2436d184a8f1fd744f8860bc5dac60d365"
      },
      "cell_type": "code",
      "source": "np.mean(logloss), np.mean(bestscore)",
      "execution_count": null,
      "outputs": []
    },
    {
      "metadata": {
        "trusted": true,
        "_uuid": "c75b99630279cdaf010878fb5b8d35be77765ad5"
      },
      "cell_type": "code",
      "source": "y_test = y_test.reshape((-1, 1))\npred_test_y = (y_test>np.mean(bestscore)).astype(int)\nsub['prediction'] = pred_test_y\nsub.to_csv(\"submission.csv\", index=False)",
      "execution_count": null,
      "outputs": []
    }
  ],
  "metadata": {
    "kernelspec": {
      "display_name": "Python 3",
      "language": "python",
      "name": "python3"
    },
    "language_info": {
      "name": "python",
      "version": "3.6.6",
      "mimetype": "text/x-python",
      "codemirror_mode": {
        "name": "ipython",
        "version": 3
      },
      "pygments_lexer": "ipython3",
      "nbconvert_exporter": "python",
      "file_extension": ".py"
    }
  },
  "nbformat": 4,
  "nbformat_minor": 1
}
